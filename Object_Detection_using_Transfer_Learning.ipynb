{
  "cells": [
    {
      "cell_type": "markdown",
      "id": "b9d81626-9391-4493-b5a1-510caf6a8f95",
      "metadata": {
        "id": "b9d81626-9391-4493-b5a1-510caf6a8f95"
      },
      "source": [
        "Object Detection using Transfer Learning"
      ]
    },
    {
      "cell_type": "code",
      "execution_count": null,
      "id": "62c45a54-9e5c-4ee2-bb98-b494efffdda4",
      "metadata": {
        "id": "62c45a54-9e5c-4ee2-bb98-b494efffdda4",
        "outputId": "af9ed01d-ed0d-4914-d84a-75b64742e395"
      },
      "outputs": [
        {
          "name": "stdout",
          "output_type": "stream",
          "text": [
            "Defaulting to user installation because normal site-packages is not writeable\n",
            "Requirement already satisfied: tensorflow in /home/gargi/.local/lib/python3.10/site-packages (2.15.0)\n",
            "Requirement already satisfied: protobuf!=4.21.0,!=4.21.1,!=4.21.2,!=4.21.3,!=4.21.4,!=4.21.5,<5.0.0dev,>=3.20.3 in /home/gargi/.local/lib/python3.10/site-packages (from tensorflow) (4.23.4)\n",
            "Requirement already satisfied: typing-extensions>=3.6.6 in /home/gargi/.local/lib/python3.10/site-packages (from tensorflow) (4.8.0)\n",
            "Requirement already satisfied: keras<2.16,>=2.15.0 in /home/gargi/.local/lib/python3.10/site-packages (from tensorflow) (2.15.0)\n",
            "Requirement already satisfied: six>=1.12.0 in /usr/lib/python3/dist-packages (from tensorflow) (1.16.0)\n",
            "Requirement already satisfied: wrapt<1.15,>=1.11.0 in /home/gargi/.local/lib/python3.10/site-packages (from tensorflow) (1.14.1)\n",
            "Requirement already satisfied: gast!=0.5.0,!=0.5.1,!=0.5.2,>=0.2.1 in /home/gargi/.local/lib/python3.10/site-packages (from tensorflow) (0.5.4)\n",
            "Requirement already satisfied: tensorboard<2.16,>=2.15 in /home/gargi/.local/lib/python3.10/site-packages (from tensorflow) (2.15.1)\n",
            "Requirement already satisfied: setuptools in /usr/lib/python3/dist-packages (from tensorflow) (59.6.0)\n",
            "Requirement already satisfied: packaging in /home/gargi/.local/lib/python3.10/site-packages (from tensorflow) (23.2)\n",
            "Requirement already satisfied: ml-dtypes~=0.2.0 in /home/gargi/.local/lib/python3.10/site-packages (from tensorflow) (0.2.0)\n",
            "Requirement already satisfied: tensorflow-io-gcs-filesystem>=0.23.1 in /home/gargi/.local/lib/python3.10/site-packages (from tensorflow) (0.34.0)\n",
            "Requirement already satisfied: opt-einsum>=2.3.2 in /home/gargi/.local/lib/python3.10/site-packages (from tensorflow) (3.3.0)\n",
            "Requirement already satisfied: flatbuffers>=23.5.26 in /home/gargi/.local/lib/python3.10/site-packages (from tensorflow) (23.5.26)\n",
            "Requirement already satisfied: libclang>=13.0.0 in /home/gargi/.local/lib/python3.10/site-packages (from tensorflow) (16.0.6)\n",
            "Requirement already satisfied: absl-py>=1.0.0 in /home/gargi/.local/lib/python3.10/site-packages (from tensorflow) (2.0.0)\n",
            "Requirement already satisfied: grpcio<2.0,>=1.24.3 in /home/gargi/.local/lib/python3.10/site-packages (from tensorflow) (1.59.2)\n",
            "Requirement already satisfied: termcolor>=1.1.0 in /home/gargi/.local/lib/python3.10/site-packages (from tensorflow) (2.3.0)\n",
            "Requirement already satisfied: numpy<2.0.0,>=1.23.5 in /home/gargi/.local/lib/python3.10/site-packages (from tensorflow) (1.26.2)\n",
            "Requirement already satisfied: h5py>=2.9.0 in /home/gargi/.local/lib/python3.10/site-packages (from tensorflow) (3.10.0)\n",
            "Requirement already satisfied: google-pasta>=0.1.1 in /home/gargi/.local/lib/python3.10/site-packages (from tensorflow) (0.2.0)\n",
            "Requirement already satisfied: tensorflow-estimator<2.16,>=2.15.0 in /home/gargi/.local/lib/python3.10/site-packages (from tensorflow) (2.15.0)\n",
            "Requirement already satisfied: astunparse>=1.6.0 in /home/gargi/.local/lib/python3.10/site-packages (from tensorflow) (1.6.3)\n",
            "Requirement already satisfied: wheel<1.0,>=0.23.0 in /usr/lib/python3/dist-packages (from astunparse>=1.6.0->tensorflow) (0.37.1)\n",
            "Requirement already satisfied: google-auth-oauthlib<2,>=0.5 in /home/gargi/.local/lib/python3.10/site-packages (from tensorboard<2.16,>=2.15->tensorflow) (1.1.0)\n",
            "Requirement already satisfied: werkzeug>=1.0.1 in /home/gargi/.local/lib/python3.10/site-packages (from tensorboard<2.16,>=2.15->tensorflow) (3.0.1)\n",
            "Requirement already satisfied: tensorboard-data-server<0.8.0,>=0.7.0 in /home/gargi/.local/lib/python3.10/site-packages (from tensorboard<2.16,>=2.15->tensorflow) (0.7.2)\n",
            "Requirement already satisfied: google-auth<3,>=1.6.3 in /home/gargi/.local/lib/python3.10/site-packages (from tensorboard<2.16,>=2.15->tensorflow) (2.23.4)\n",
            "Requirement already satisfied: requests<3,>=2.21.0 in /home/gargi/.local/lib/python3.10/site-packages (from tensorboard<2.16,>=2.15->tensorflow) (2.31.0)\n",
            "Requirement already satisfied: markdown>=2.6.8 in /home/gargi/.local/lib/python3.10/site-packages (from tensorboard<2.16,>=2.15->tensorflow) (3.5.1)\n",
            "Requirement already satisfied: cachetools<6.0,>=2.0.0 in /home/gargi/.local/lib/python3.10/site-packages (from google-auth<3,>=1.6.3->tensorboard<2.16,>=2.15->tensorflow) (5.3.2)\n",
            "Requirement already satisfied: pyasn1-modules>=0.2.1 in /home/gargi/.local/lib/python3.10/site-packages (from google-auth<3,>=1.6.3->tensorboard<2.16,>=2.15->tensorflow) (0.3.0)\n",
            "Requirement already satisfied: rsa<5,>=3.1.4 in /home/gargi/.local/lib/python3.10/site-packages (from google-auth<3,>=1.6.3->tensorboard<2.16,>=2.15->tensorflow) (4.9)\n",
            "Requirement already satisfied: requests-oauthlib>=0.7.0 in /home/gargi/.local/lib/python3.10/site-packages (from google-auth-oauthlib<2,>=0.5->tensorboard<2.16,>=2.15->tensorflow) (1.3.1)\n",
            "Requirement already satisfied: urllib3<3,>=1.21.1 in /usr/lib/python3/dist-packages (from requests<3,>=2.21.0->tensorboard<2.16,>=2.15->tensorflow) (1.26.5)\n",
            "Requirement already satisfied: certifi>=2017.4.17 in /usr/lib/python3/dist-packages (from requests<3,>=2.21.0->tensorboard<2.16,>=2.15->tensorflow) (2020.6.20)\n",
            "Requirement already satisfied: charset-normalizer<4,>=2 in /home/gargi/.local/lib/python3.10/site-packages (from requests<3,>=2.21.0->tensorboard<2.16,>=2.15->tensorflow) (3.3.2)\n",
            "Requirement already satisfied: idna<4,>=2.5 in /usr/lib/python3/dist-packages (from requests<3,>=2.21.0->tensorboard<2.16,>=2.15->tensorflow) (3.3)\n",
            "Requirement already satisfied: MarkupSafe>=2.1.1 in /home/gargi/.local/lib/python3.10/site-packages (from werkzeug>=1.0.1->tensorboard<2.16,>=2.15->tensorflow) (2.1.3)\n",
            "Requirement already satisfied: pyasn1<0.6.0,>=0.4.6 in /home/gargi/.local/lib/python3.10/site-packages (from pyasn1-modules>=0.2.1->google-auth<3,>=1.6.3->tensorboard<2.16,>=2.15->tensorflow) (0.5.0)\n",
            "Requirement already satisfied: oauthlib>=3.0.0 in /usr/lib/python3/dist-packages (from requests-oauthlib>=0.7.0->google-auth-oauthlib<2,>=0.5->tensorboard<2.16,>=2.15->tensorflow) (3.2.0)\n"
          ]
        }
      ],
      "source": [
        "!pip install tensorflow"
      ]
    },
    {
      "cell_type": "code",
      "execution_count": null,
      "id": "9564e679-e0dc-401d-b81d-8276b00d6f9f",
      "metadata": {
        "id": "9564e679-e0dc-401d-b81d-8276b00d6f9f",
        "outputId": "d95af53b-befe-4073-a1c2-973886a56ce9"
      },
      "outputs": [
        {
          "name": "stdout",
          "output_type": "stream",
          "text": [
            "Defaulting to user installation because normal site-packages is not writeable\n",
            "Requirement already satisfied: scipy in /home/gargi/.local/lib/python3.10/site-packages (1.11.3)\n",
            "Requirement already satisfied: numpy<1.28.0,>=1.21.6 in /home/gargi/.local/lib/python3.10/site-packages (from scipy) (1.26.2)\n"
          ]
        }
      ],
      "source": [
        "!pip install scipy"
      ]
    },
    {
      "cell_type": "code",
      "execution_count": null,
      "id": "19566d0e-d0e5-4706-8d65-393594300b40",
      "metadata": {
        "id": "19566d0e-d0e5-4706-8d65-393594300b40",
        "outputId": "df69f3be-0af5-483c-b44e-9357a5f0973d"
      },
      "outputs": [
        {
          "name": "stderr",
          "output_type": "stream",
          "text": [
            "2023-11-16 01:07:16.253372: I external/local_tsl/tsl/cuda/cudart_stub.cc:31] Could not find cuda drivers on your machine, GPU will not be used.\n",
            "2023-11-16 01:07:16.588000: E external/local_xla/xla/stream_executor/cuda/cuda_dnn.cc:9261] Unable to register cuDNN factory: Attempting to register factory for plugin cuDNN when one has already been registered\n",
            "2023-11-16 01:07:16.588071: E external/local_xla/xla/stream_executor/cuda/cuda_fft.cc:607] Unable to register cuFFT factory: Attempting to register factory for plugin cuFFT when one has already been registered\n",
            "2023-11-16 01:07:16.653159: E external/local_xla/xla/stream_executor/cuda/cuda_blas.cc:1515] Unable to register cuBLAS factory: Attempting to register factory for plugin cuBLAS when one has already been registered\n",
            "2023-11-16 01:07:16.811318: I external/local_tsl/tsl/cuda/cudart_stub.cc:31] Could not find cuda drivers on your machine, GPU will not be used.\n",
            "2023-11-16 01:07:16.814709: I tensorflow/core/platform/cpu_feature_guard.cc:182] This TensorFlow binary is optimized to use available CPU instructions in performance-critical operations.\n",
            "To enable the following instructions: AVX2, in other operations, rebuild TensorFlow with the appropriate compiler flags.\n",
            "2023-11-16 01:07:18.736044: W tensorflow/compiler/tf2tensorrt/utils/py_utils.cc:38] TF-TRT Warning: Could not find TensorRT\n"
          ]
        }
      ],
      "source": [
        "import tensorflow as tf\n",
        "import scipy\n",
        "from tensorflow.keras import models, optimizers, layers\n",
        "from tensorflow.keras.datasets import cifar10\n",
        "from tensorflow.keras.preprocessing.image import ImageDataGenerator\n",
        "from tensorflow.keras.applications import VGG16"
      ]
    },
    {
      "cell_type": "code",
      "execution_count": null,
      "id": "e592fb6b-dea5-4234-9e52-03c9b59bbc7e",
      "metadata": {
        "id": "e592fb6b-dea5-4234-9e52-03c9b59bbc7e"
      },
      "outputs": [],
      "source": [
        "# (x_train, y_train), (x_test, y_test) = cifar10.load_data()\n",
        "# x_train = x_train/255\n",
        "# x_test = x_test/255"
      ]
    },
    {
      "cell_type": "code",
      "execution_count": null,
      "id": "30e8f28c-28af-4c3a-b0f3-c7e7c26b66fd",
      "metadata": {
        "id": "30e8f28c-28af-4c3a-b0f3-c7e7c26b66fd",
        "outputId": "f4243a5f-31bb-4bc7-87bd-013c509ae0c4"
      },
      "outputs": [
        {
          "name": "stdout",
          "output_type": "stream",
          "text": [
            "Found 9144 images belonging to 102 classes.\n"
          ]
        }
      ],
      "source": [
        "data_dir = \"/home/gargi/DLL/LP-IV-datasets/Object Detection(Ass6)/caltech-101-img\"\n",
        "img_gen = ImageDataGenerator(\n",
        "    rescale = 1.0/255\n",
        ")\n",
        "batch_size = 2000\n",
        "dataset_generator = img_gen.flow_from_directory(\n",
        "    data_dir,\n",
        "    batch_size = batch_size,\n",
        "    target_size = (64,64),\n",
        "    class_mode = \"categorical\"\n",
        ")"
      ]
    },
    {
      "cell_type": "code",
      "execution_count": null,
      "id": "a3fbce8e-a237-4023-ba87-a258123021d2",
      "metadata": {
        "id": "a3fbce8e-a237-4023-ba87-a258123021d2",
        "outputId": "d53ad65b-6d30-4497-fdf8-0983c37ef14a"
      },
      "outputs": [
        {
          "data": {
            "text/plain": [
              "<keras.src.preprocessing.image.DirectoryIterator at 0x7f5f7ec1abf0>"
            ]
          },
          "execution_count": 23,
          "metadata": {},
          "output_type": "execute_result"
        }
      ],
      "source": [
        "dataset_generator"
      ]
    },
    {
      "cell_type": "code",
      "execution_count": null,
      "id": "0ec4b29f-be16-4978-a08b-7b59325d92be",
      "metadata": {
        "id": "0ec4b29f-be16-4978-a08b-7b59325d92be",
        "outputId": "9f6ccc28-36ec-465d-ca6c-3b04bb150266"
      },
      "outputs": [
        {
          "data": {
            "text/plain": [
              "(2000, 64, 64, 3)"
            ]
          },
          "execution_count": 24,
          "metadata": {},
          "output_type": "execute_result"
        }
      ],
      "source": [
        "x_train, y_train = dataset_generator[0]\n",
        "x_train.shape"
      ]
    },
    {
      "cell_type": "code",
      "execution_count": null,
      "id": "66d5ebee-2794-4230-a89d-387ff6a46f28",
      "metadata": {
        "id": "66d5ebee-2794-4230-a89d-387ff6a46f28",
        "outputId": "a3cb9248-8ace-45db-f701-e68238d65b37"
      },
      "outputs": [
        {
          "data": {
            "text/plain": [
              "(2000, 64, 64, 3)"
            ]
          },
          "execution_count": 25,
          "metadata": {},
          "output_type": "execute_result"
        }
      ],
      "source": [
        "x_test, y_test = dataset_generator[1]\n",
        "x_test.shape"
      ]
    },
    {
      "cell_type": "code",
      "execution_count": null,
      "id": "c76105a1-35e8-49fe-9cc3-99233c637f51",
      "metadata": {
        "id": "c76105a1-35e8-49fe-9cc3-99233c637f51",
        "outputId": "0c6e00ae-d30c-4111-be94-e46f14374dbe"
      },
      "outputs": [
        {
          "data": {
            "text/plain": [
              "(2000, 102)"
            ]
          },
          "execution_count": 34,
          "metadata": {},
          "output_type": "execute_result"
        }
      ],
      "source": [
        "y_train.shape"
      ]
    },
    {
      "cell_type": "code",
      "execution_count": null,
      "id": "657432e1-c8db-47fc-be32-8ad6be5570e0",
      "metadata": {
        "id": "657432e1-c8db-47fc-be32-8ad6be5570e0"
      },
      "outputs": [],
      "source": [
        "weight_path = \"LP-IV-datasets/Object Detection(Ass6)/vgg16_weights_tf_dim_ordering_tf_kernels_notop.h5\"\n",
        "\n",
        "base_model = VGG16(weights = weight_path, input_shape=(64,64,3), include_top = False)"
      ]
    },
    {
      "cell_type": "code",
      "execution_count": null,
      "id": "b4d0e227-fea7-4685-ace5-c80a52544b3a",
      "metadata": {
        "id": "b4d0e227-fea7-4685-ace5-c80a52544b3a"
      },
      "outputs": [],
      "source": [
        "for layer in base_model.layers:\n",
        "    layer.trainable = False"
      ]
    },
    {
      "cell_type": "code",
      "execution_count": null,
      "id": "9bd6014b-ce3a-490e-b9aa-d677f38a41aa",
      "metadata": {
        "id": "9bd6014b-ce3a-490e-b9aa-d677f38a41aa"
      },
      "outputs": [],
      "source": [
        "model = models.Sequential()\n",
        "model.add(base_model)\n",
        "model.add(layers.Flatten())\n",
        "model.add(layers.Dense(256, activation=\"relu\"))\n",
        "model.add(layers.Dropout(0.5))\n",
        "model.add(layers.Dense(102, activation='softmax'))\n",
        "\n",
        "model.compile(optimizer=\"adam\", loss=\"categorical_crossentropy\", metrics=['accuracy'])"
      ]
    },
    {
      "cell_type": "code",
      "execution_count": null,
      "id": "e7b487ee-2bb5-4d45-a7db-2e8c97d8d8fc",
      "metadata": {
        "id": "e7b487ee-2bb5-4d45-a7db-2e8c97d8d8fc",
        "outputId": "82719696-0134-47f5-930a-4f70efa2d3ff"
      },
      "outputs": [
        {
          "name": "stdout",
          "output_type": "stream",
          "text": [
            "Model: \"sequential\"\n",
            "_________________________________________________________________\n",
            " Layer (type)                Output Shape              Param #   \n",
            "=================================================================\n",
            " vgg16 (Functional)          (None, 2, 2, 512)         14714688  \n",
            "                                                                 \n",
            " flatten (Flatten)           (None, 2048)              0         \n",
            "                                                                 \n",
            " dense (Dense)               (None, 256)               524544    \n",
            "                                                                 \n",
            " dropout (Dropout)           (None, 256)               0         \n",
            "                                                                 \n",
            " dense_1 (Dense)             (None, 102)               26214     \n",
            "                                                                 \n",
            "=================================================================\n",
            "Total params: 15265446 (58.23 MB)\n",
            "Trainable params: 15265446 (58.23 MB)\n",
            "Non-trainable params: 0 (0.00 Byte)\n",
            "_________________________________________________________________\n"
          ]
        }
      ],
      "source": [
        "model.summary()"
      ]
    },
    {
      "cell_type": "code",
      "execution_count": null,
      "id": "9a7f2b0f-34a1-42b8-93da-873ec7265e29",
      "metadata": {
        "id": "9a7f2b0f-34a1-42b8-93da-873ec7265e29",
        "outputId": "765403f6-1e27-4e10-88f1-d27c65075bca"
      },
      "outputs": [
        {
          "name": "stdout",
          "output_type": "stream",
          "text": [
            "10/10 [==============================] - 1045s 106s/step - loss: 4.2189 - accuracy: 0.0925 - val_loss: 4.2140 - val_accuracy: 0.1050\n"
          ]
        },
        {
          "data": {
            "text/plain": [
              "<keras.src.callbacks.History at 0x7f5f5cedcc70>"
            ]
          },
          "execution_count": 40,
          "metadata": {},
          "output_type": "execute_result"
        }
      ],
      "source": [
        "model.fit(x_train, y_train,batch_size = 200, epochs = 1, validation_data=(x_test, y_test))"
      ]
    },
    {
      "cell_type": "code",
      "execution_count": null,
      "id": "84c2c7b8-3f30-49aa-ac74-1c66387d213e",
      "metadata": {
        "id": "84c2c7b8-3f30-49aa-ac74-1c66387d213e"
      },
      "outputs": [],
      "source": [
        "for layer in base_model.layers[-4:]:\n",
        "    layer.trainable=True"
      ]
    },
    {
      "cell_type": "code",
      "execution_count": null,
      "id": "0aabc943-05be-440c-81a0-f26be05d7f95",
      "metadata": {
        "id": "0aabc943-05be-440c-81a0-f26be05d7f95"
      },
      "outputs": [],
      "source": [
        "model2 = models.Sequential()\n",
        "model2.add(base_model)\n",
        "model2.add(layers.Flatten())\n",
        "model2.add(layers.Dense(256, activation=\"relu\"))\n",
        "model2.add(layers.Dropout(0.5))\n",
        "model2.add(layers.Dense(102, activation='softmax'))\n",
        "\n",
        "model2.compile(optimizer=\"adam\", loss=\"categorical_crossentropy\", metrics=['accuracy'])"
      ]
    },
    {
      "cell_type": "code",
      "execution_count": null,
      "id": "a8e332d6-0a27-44dc-a441-794afe5dfe7b",
      "metadata": {
        "id": "a8e332d6-0a27-44dc-a441-794afe5dfe7b",
        "outputId": "fd0ec024-a248-441a-a2a1-a08329a69cb6"
      },
      "outputs": [
        {
          "name": "stdout",
          "output_type": "stream",
          "text": [
            "Defaulting to user installation because normal site-packages is not writeable\n",
            "Collecting matplotlib\n",
            "  Downloading matplotlib-3.8.1-cp310-cp310-manylinux_2_17_x86_64.manylinux2014_x86_64.whl (11.6 MB)\n",
            "\u001b[2K     \u001b[38;2;114;156;31m━━━━━━━━━━━━━━━━━━━━━━━━━━━━━━━━━━━━━━━━\u001b[0m \u001b[32m11.6/11.6 MB\u001b[0m \u001b[31m1.1 MB/s\u001b[0m eta \u001b[36m0:00:00\u001b[0mm eta \u001b[36m0:00:01\u001b[0m[36m0:00:01\u001b[0mm\n",
            "\u001b[?25hCollecting fonttools>=4.22.0\n",
            "  Downloading fonttools-4.44.3-cp310-cp310-manylinux_2_17_x86_64.manylinux2014_x86_64.whl (4.5 MB)\n",
            "\u001b[2K     \u001b[38;2;114;156;31m━━━━━━━━━━━━━━━━━━━━━━━━━━━━━━━━━━━━━━━━\u001b[0m \u001b[32m4.5/4.5 MB\u001b[0m \u001b[31m556.4 kB/s\u001b[0m eta \u001b[36m0:00:00\u001b[0mm eta \u001b[36m0:00:01\u001b[0m[36m0:00:01\u001b[0m\n",
            "\u001b[?25hRequirement already satisfied: pillow>=8 in /usr/lib/python3/dist-packages (from matplotlib) (9.0.1)\n",
            "Requirement already satisfied: python-dateutil>=2.7 in /home/gargi/.local/lib/python3.10/site-packages (from matplotlib) (2.8.2)\n",
            "Collecting cycler>=0.10\n",
            "  Downloading cycler-0.12.1-py3-none-any.whl (8.3 kB)\n",
            "Requirement already satisfied: packaging>=20.0 in /home/gargi/.local/lib/python3.10/site-packages (from matplotlib) (23.2)\n",
            "Collecting contourpy>=1.0.1\n",
            "  Downloading contourpy-1.2.0-cp310-cp310-manylinux_2_17_x86_64.manylinux2014_x86_64.whl (310 kB)\n",
            "\u001b[2K     \u001b[38;2;114;156;31m━━━━━━━━━━━━━━━━━━━━━━━━━━━━━━━━━━━━━\u001b[0m \u001b[32m310.7/310.7 KB\u001b[0m \u001b[31m926.8 kB/s\u001b[0m eta \u001b[36m0:00:00\u001b[0m[31m1.0 MB/s\u001b[0m eta \u001b[36m0:00:01\u001b[0m\n",
            "\u001b[?25hRequirement already satisfied: pyparsing>=2.3.1 in /usr/lib/python3/dist-packages (from matplotlib) (2.4.7)\n",
            "Requirement already satisfied: numpy<2,>=1.21 in /home/gargi/.local/lib/python3.10/site-packages (from matplotlib) (1.26.2)\n",
            "Collecting kiwisolver>=1.3.1\n",
            "  Downloading kiwisolver-1.4.5-cp310-cp310-manylinux_2_12_x86_64.manylinux2010_x86_64.whl (1.6 MB)\n",
            "\u001b[2K     \u001b[38;2;114;156;31m━━━━━━━━━━━━━━━━━━━━━━━━━━━━━━━━━━━━━━━━\u001b[0m \u001b[32m1.6/1.6 MB\u001b[0m \u001b[31m1.4 MB/s\u001b[0m eta \u001b[36m0:00:00\u001b[0m[31m1.4 MB/s\u001b[0m eta \u001b[36m0:00:01\u001b[0m0m\n",
            "\u001b[?25hRequirement already satisfied: six>=1.5 in /usr/lib/python3/dist-packages (from python-dateutil>=2.7->matplotlib) (1.16.0)\n",
            "Installing collected packages: kiwisolver, fonttools, cycler, contourpy, matplotlib\n",
            "\u001b[33m  WARNING: The scripts fonttools, pyftmerge, pyftsubset and ttx are installed in '/home/gargi/.local/bin' which is not on PATH.\n",
            "  Consider adding this directory to PATH or, if you prefer to suppress this warning, use --no-warn-script-location.\u001b[0m\u001b[33m\n",
            "\u001b[0mSuccessfully installed contourpy-1.2.0 cycler-0.12.1 fonttools-4.44.3 kiwisolver-1.4.5 matplotlib-3.8.1\n",
            "Defaulting to user installation because normal site-packages is not writeable\n",
            "Requirement already satisfied: numpy in /home/gargi/.local/lib/python3.10/site-packages (1.26.2)\n"
          ]
        }
      ],
      "source": [
        "!pip install matplotlib\n",
        "!pip install numpy"
      ]
    },
    {
      "cell_type": "code",
      "execution_count": null,
      "id": "3fd4471d-15ec-4acc-9434-30067b9e5e24",
      "metadata": {
        "id": "3fd4471d-15ec-4acc-9434-30067b9e5e24"
      },
      "outputs": [],
      "source": [
        "import matplotlib.pyplot as plt\n",
        "import numpy as np"
      ]
    },
    {
      "cell_type": "code",
      "execution_count": null,
      "id": "6ce068ca-6e65-425e-8ca6-1ab50eff1383",
      "metadata": {
        "id": "6ce068ca-6e65-425e-8ca6-1ab50eff1383",
        "outputId": "d49f6e8d-30a9-4a90-beea-519386310d72"
      },
      "outputs": [
        {
          "name": "stdout",
          "output_type": "stream",
          "text": [
            "63/63 [==============================] - 75s 1s/step\n"
          ]
        }
      ],
      "source": [
        "prediction = model.predict(x_test)"
      ]
    },
    {
      "cell_type": "code",
      "execution_count": null,
      "id": "4b9ae8c4-949b-464b-b5a5-53b53c057b1a",
      "metadata": {
        "id": "4b9ae8c4-949b-464b-b5a5-53b53c057b1a"
      },
      "outputs": [],
      "source": [
        "labels = list(dataset_generator.class_indices.keys())"
      ]
    },
    {
      "cell_type": "code",
      "execution_count": null,
      "id": "6b25e555-a331-4f11-8f59-bbf87bb3df5c",
      "metadata": {
        "id": "6b25e555-a331-4f11-8f59-bbf87bb3df5c",
        "outputId": "02a9de69-d481-4c7c-86b4-c9cda816c559"
      },
      "outputs": [
        {
          "name": "stdout",
          "output_type": "stream",
          "text": [
            "Predicted: Motorbikes\n",
            "Actual: airplanes\n"
          ]
        },
        {
          "data": {
            "image/png": "[encoded data removed]",
            "text/plain": [
              "<Figure size 640x480 with 1 Axes>"
            ]
          },
          "metadata": {},
          "output_type": "display_data"
        }
      ],
      "source": [
        "n = 999\n",
        "plt.imshow(x_test[n])\n",
        "print(\"Predicted:\", labels[np.argmax(prediction[n])])\n",
        "print(\"Actual:\", labels[np.argmax(y_test[n])])"
      ]
    },
    {
      "cell_type": "code",
      "execution_count": null,
      "id": "be523756-6dc5-4d8d-ae00-bde1815669df",
      "metadata": {
        "id": "be523756-6dc5-4d8d-ae00-bde1815669df",
        "outputId": "7d6e9b86-f17a-44a5-b4d1-075ddbd6d4f8"
      },
      "outputs": [
        {
          "name": "stdout",
          "output_type": "stream",
          "text": [
            "63/63 [==============================] - 115s 2s/step\n"
          ]
        },
        {
          "data": {
            "text/plain": [
              "array([4, 6, 6, ..., 6, 6, 6])"
            ]
          },
          "execution_count": 53,
          "metadata": {},
          "output_type": "execute_result"
        }
      ],
      "source": [
        "#test_loss, test_accuracy = model.estimate(x_test, y_test)\n",
        "#print(\"Test Accuracy:\", test_accuracy)\n",
        "\n",
        "\n",
        "predict_x=model.predict(x_test)\n",
        "classes_x=np.argmax(predict_x,axis=1)\n",
        "classes_x"
      ]
    },
    {
      "cell_type": "code",
      "execution_count": null,
      "id": "538b3af0-d23e-4b2f-b386-6f70b11ffaf2",
      "metadata": {
        "id": "538b3af0-d23e-4b2f-b386-6f70b11ffaf2",
        "outputId": "5706bd1b-fc8a-45e1-83ee-6788f53d65b4"
      },
      "outputs": [
        {
          "name": "stdout",
          "output_type": "stream",
          "text": [
            "63/63 [==============================] - 152s 2s/step - loss: 4.2140 - accuracy: 0.1050\n",
            "Test Accuracy: 0.10499999672174454\n"
          ]
        }
      ],
      "source": [
        "test_loss, test_accuracy = model.evaluate(x_test, y_test)\n",
        "print(\"Test Accuracy:\", test_accuracy)"
      ]
    }
  ],
  "metadata": {
    "kernelspec": {
      "display_name": "Python 3 (ipykernel)",
      "language": "python",
      "name": "python3"
    },
    "language_info": {
      "codemirror_mode": {
        "name": "ipython",
        "version": 3
      },
      "file_extension": ".py",
      "mimetype": "text/x-python",
      "name": "python",
      "nbconvert_exporter": "python",
      "pygments_lexer": "ipython3",
      "version": "3.10.12"
    },
    "colab": {
      "provenance": []
    }
  },
  "nbformat": 4,
  "nbformat_minor": 5
}