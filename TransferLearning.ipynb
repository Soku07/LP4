{
  "nbformat": 4,
  "nbformat_minor": 0,
  "metadata": {
    "colab": {
      "provenance": []
    },
    "kernelspec": {
      "name": "python3",
      "display_name": "Python 3"
    },
    "language_info": {
      "name": "python"
    }
  },
  "cells": [
    {
      "cell_type": "code",
      "execution_count": null,
      "metadata": {
        "id": "up1wadAtV8fR"
      },
      "outputs": [],
      "source": [
        "import numpy as np\n",
        "import pandas as pd\n",
        "import tensorflow\n",
        "from tensorflow import keras\n",
        "from tensorflow.keras.preprocessing.image import ImageDataGenerator"
      ]
    },
    {
      "cell_type": "code",
      "source": [
        "dataset_dir = \"D:\\LP4\\LP-IV-datasets\\Object Detection(Ass6)\\caltech-101-img\"\n",
        "dataset_datagen = ImageDataGenerator(rescale = 1.0/255)\n",
        "batch_size = 2000\n",
        "dataset_generator = dataset_datagen.flow_from_directory(\n",
        "    dataset_dir,\n",
        "    target_size = (64,64),\n",
        "    batch_size = batch_size,\n",
        "    class_mode = 'categorical'\n",
        ")"
      ],
      "metadata": {
        "id": "tis-h7gPYq-p"
      },
      "execution_count": null,
      "outputs": []
    },
    {
      "cell_type": "code",
      "source": [
        "from google.colab import drive\n",
        "import zipfile\n",
        "import os\n",
        "\n",
        "# Mount Google Drive\n",
        "drive.mount('/content/drive')\n",
        "\n",
        "# Specify the path to the zip file in Google Drive\n",
        "drive_zip_path = '/content/drive/MyDrive/imageds.zip'\n",
        "\n",
        "# Specify the destination folder in Colab (e.g., /content/your_dataset/)\n",
        "extracted_folder_path = '/content/dataset/'\n",
        "\n",
        "# Extract the contents of the zip file\n",
        "with zipfile.ZipFile(drive_zip_path, 'r') as zip_ref:\n",
        "    zip_ref.extractall(extracted_folder_path)\n",
        "\n",
        "# List the contents of the extracted folder\n",
        "print(\"Contents of the extracted folder:\")\n",
        "!ls $extracted_folder_path\n"
      ],
      "metadata": {
        "colab": {
          "base_uri": "https://localhost:8080/"
        },
        "id": "Fk6InerfZpt1",
        "outputId": "615bfb6f-1a56-4356-ca48-88b32ae86e34"
      },
      "execution_count": null,
      "outputs": [
        {
          "output_type": "stream",
          "name": "stdout",
          "text": [
            "Mounted at /content/drive\n",
            "Contents of the extracted folder:\n",
            "caltech-101-img\n"
          ]
        }
      ]
    },
    {
      "cell_type": "code",
      "source": [
        "dataset_dir = \"/content/dataset/caltech-101-img\"\n",
        "dataset_datagen = ImageDataGenerator(rescale = 1.0/255)\n",
        "batch_size = 2000\n",
        "dataset_generator = dataset_datagen.flow_from_directory(\n",
        "    dataset_dir,\n",
        "    target_size = (64,64),\n",
        "    batch_size = batch_size,\n",
        "    class_mode = 'categorical'\n",
        ")"
      ],
      "metadata": {
        "colab": {
          "base_uri": "https://localhost:8080/"
        },
        "id": "att7Tk6YcjCo",
        "outputId": "73b7b290-f054-4de1-b1b9-d2c9a5eebd24"
      },
      "execution_count": null,
      "outputs": [
        {
          "output_type": "stream",
          "name": "stdout",
          "text": [
            "Found 9144 images belonging to 102 classes.\n"
          ]
        }
      ]
    },
    {
      "cell_type": "code",
      "source": [
        "dataset_generator"
      ],
      "metadata": {
        "colab": {
          "base_uri": "https://localhost:8080/"
        },
        "id": "ssyd3Pa9dBBz",
        "outputId": "076ae050-42ca-4bd4-d9b2-84e1335e933c"
      },
      "execution_count": null,
      "outputs": [
        {
          "output_type": "execute_result",
          "data": {
            "text/plain": [
              "<keras.src.preprocessing.image.DirectoryIterator at 0x7d1d5ce139a0>"
            ]
          },
          "metadata": {},
          "execution_count": 5
        }
      ]
    },
    {
      "cell_type": "code",
      "source": [
        "from tensorflow.keras.models import Sequential\n",
        "from tensorflow.keras.layers import Flatten, Dense,Dropout\n",
        "from tensorflow.keras.optimizers import Adam\n",
        "from tensorflow.keras.applications import VGG16"
      ],
      "metadata": {
        "id": "CXuXwPLEgYjv"
      },
      "execution_count": null,
      "outputs": []
    },
    {
      "cell_type": "code",
      "source": [
        "weights_path = \"/content/drive/MyDrive/vgg16_weights_tf_dim_ordering_tf_kernels_notop.h5\"\n",
        "base_model = VGG16(weights = weights_path, include_top = False, input_shape = (64,64,3))"
      ],
      "metadata": {
        "id": "--FwiVcxqYJy"
      },
      "execution_count": null,
      "outputs": []
    },
    {
      "cell_type": "code",
      "source": [
        "for layer in base_model.layers:\n",
        "  layer.trainable = False"
      ],
      "metadata": {
        "id": "T7yIbFHGrGtW"
      },
      "execution_count": null,
      "outputs": []
    },
    {
      "cell_type": "code",
      "source": [
        "model1 = Sequential()\n",
        "model1.add(base_model)\n",
        "model1.add(Flatten())\n",
        "model1.add(Dense(256, activation = 'relu'))\n",
        "model1.add(Dropout(0.2))\n",
        "model1.add(Dense(102, activation = 'softmax'))"
      ],
      "metadata": {
        "id": "2fY7VcXqrdAv"
      },
      "execution_count": null,
      "outputs": []
    },
    {
      "cell_type": "code",
      "source": [
        "model1.compile(optimizer = 'adam', loss = 'categorical_crossentropy', metrics = ['accuracy'])"
      ],
      "metadata": {
        "id": "iP_Qad7ErmoR"
      },
      "execution_count": null,
      "outputs": []
    },
    {
      "cell_type": "code",
      "source": [
        "x_train, y_train = dataset_generator[0]\n",
        "x_test, y_test = dataset_generator[1]\n",
        "model1.fit(x_train, y_train, epochs = 1, validation_data = (x_test, y_test))"
      ],
      "metadata": {
        "colab": {
          "base_uri": "https://localhost:8080/"
        },
        "id": "V2obveqGtimH",
        "outputId": "08456fd9-0470-453f-8a54-1fcf7ec5ba26"
      },
      "execution_count": null,
      "outputs": [
        {
          "output_type": "stream",
          "name": "stdout",
          "text": [
            "63/63 [==============================] - 240s 4s/step - loss: 3.3134 - accuracy: 0.3180 - val_loss: 2.7989 - val_accuracy: 0.4125\n"
          ]
        },
        {
          "output_type": "execute_result",
          "data": {
            "text/plain": [
              "<keras.src.callbacks.History at 0x7d1d4e3fe6b0>"
            ]
          },
          "metadata": {},
          "execution_count": 22
        }
      ]
    },
    {
      "cell_type": "code",
      "source": [
        "for layer in base_model.layers[-4:]:\n",
        "  layer.trainable = True"
      ],
      "metadata": {
        "id": "AOF4YvTmugOL"
      },
      "execution_count": null,
      "outputs": []
    },
    {
      "cell_type": "code",
      "source": [
        "model2 = Sequential()\n",
        "model2.add(base_model)\n",
        "model2.add(Flatten())\n",
        "model2.add(Dense(256, activation = 'relu'))\n",
        "model2.add(Dropout(0.5))\n",
        "model2.add(Dense(102, activation = 'softmax'))"
      ],
      "metadata": {
        "id": "JTMVvTIKv2Ra"
      },
      "execution_count": null,
      "outputs": []
    },
    {
      "cell_type": "code",
      "source": [
        "model2.compile(optimizer = 'adam', loss = 'categorical_crossentropy', metrics = ['accuracy'])\n",
        "model2.fit(x_train, y_train, epochs = 1, validation_data = (x_test,y_test))"
      ],
      "metadata": {
        "colab": {
          "base_uri": "https://localhost:8080/"
        },
        "id": "v7i_wCjpwRce",
        "outputId": "bc026aab-1a12-4651-8888-7485bb5b418e"
      },
      "execution_count": null,
      "outputs": [
        {
          "output_type": "stream",
          "name": "stdout",
          "text": [
            "63/63 [==============================] - 232s 4s/step - loss: 3.9008 - accuracy: 0.1980 - val_loss: 3.4972 - val_accuracy: 0.2450\n"
          ]
        },
        {
          "output_type": "execute_result",
          "data": {
            "text/plain": [
              "<keras.src.callbacks.History at 0x7d1d4f800e50>"
            ]
          },
          "metadata": {},
          "execution_count": 27
        }
      ]
    },
    {
      "cell_type": "code",
      "source": [
        "import matplotlib.pyplot as plt\n",
        "predicted1 = model1.predict(x_test)"
      ],
      "metadata": {
        "colab": {
          "base_uri": "https://localhost:8080/"
        },
        "id": "m55W8xXrwqa8",
        "outputId": "63cc8418-6779-4010-8d3d-30f7aed20b0d"
      },
      "execution_count": null,
      "outputs": [
        {
          "output_type": "stream",
          "name": "stdout",
          "text": [
            "63/63 [==============================] - 98s 2s/step\n"
          ]
        }
      ]
    },
    {
      "cell_type": "code",
      "source": [
        "predicted2 = model2.predict(x_test)"
      ],
      "metadata": {
        "colab": {
          "base_uri": "https://localhost:8080/"
        },
        "id": "bmIYFxLdyn-R",
        "outputId": "44cf2cbd-67a4-40c0-d6ab-84da654124d8"
      },
      "execution_count": null,
      "outputs": [
        {
          "output_type": "stream",
          "name": "stdout",
          "text": [
            "63/63 [==============================] - 139s 2s/step\n"
          ]
        }
      ]
    },
    {
      "cell_type": "code",
      "source": [
        "labels = list(dataset_generator.class_indices.keys())\n",
        "n = 887\n",
        "plt.imshow(x_test[n])\n",
        "print(\"Predicted 1 : \", labels[np.argmax(predicted1[n])])\n",
        "print(\"Predicted 2 : \", labels[np.argmax(predicted2[n])])\n",
        "print(\"Actual : \", labels[np.argmax(y_test[n])])\n"
      ],
      "metadata": {
        "colab": {
          "base_uri": "https://localhost:8080/",
          "height": 484
        },
        "id": "pBYPDwKNy6j0",
        "outputId": "9e59d4eb-f3c7-474d-d601-9e8be2ad05f9"
      },
      "execution_count": null,
      "outputs": [
        {
          "output_type": "stream",
          "name": "stdout",
          "text": [
            "Predicted 1 :  watch\n",
            "Predicted 2 :  airplanes\n",
            "Actual :  watch\n"
          ]
        },
        {
          "output_type": "display_data",
          "data": {
            "text/plain": [
              "<Figure size 640x480 with 1 Axes>"
            ],
            "image/png": "[encoded data removed]"
          },
          "metadata": {}
        }
      ]
    },
    {
      "cell_type": "code",
      "source": [],
      "metadata": {
        "id": "wpUdT-F7z9Bd"
      },
      "execution_count": null,
      "outputs": []
    }
  ]
}