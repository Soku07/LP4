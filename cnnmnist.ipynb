{
  "nbformat": 4,
  "nbformat_minor": 0,
  "metadata": {
    "colab": {
      "provenance": []
    },
    "kernelspec": {
      "name": "python3",
      "display_name": "Python 3"
    },
    "language_info": {
      "name": "python"
    }
  },
  "cells": [
    {
      "cell_type": "code",
      "execution_count": null,
      "metadata": {
        "id": "Y9lt09EKKgK-"
      },
      "outputs": [],
      "source": [
        "import pandas as pd\n",
        "df_train = pd.read_csv(\"/content/mnist_train.csv\")\n",
        "xtrain = df_train.drop(\"label\",axis=1).values\n",
        "xtrain = xtrain.reshape((60000,28,28,1))/255\n",
        "ytrain = df_train[\"label\"]"
      ]
    },
    {
      "cell_type": "code",
      "source": [
        "df_test = pd.read_csv(\"/content/mnist_test.csv\")\n",
        "xtest = df_test.drop(\"label\",axis=1).values\n",
        "xtest = xtest.reshape((10000,28,28,1))/255\n",
        "ytest = df_test[\"label\"]"
      ],
      "metadata": {
        "id": "m-yswb0zLpnN"
      },
      "execution_count": null,
      "outputs": []
    },
    {
      "cell_type": "code",
      "source": [
        "from tensorflow.keras.models import Sequential\n",
        "from tensorflow.keras.layers import Flatten,Dropout,Dense,Conv2D,MaxPooling2D,BatchNormalization\n",
        "from tensorflow.keras.optimizers import SGD\n",
        "model = Sequential()\n",
        "model.add(Conv2D(32, (3,3), input_shape = (28, 28, 1), activation = 'relu'))\n",
        "model.add(BatchNormalization())\n",
        "model.add(Conv2D(64, (3,3),activation = 'relu'))\n",
        "model.add(MaxPooling2D((2,2)))\n",
        "model.add(Flatten())\n",
        "model.add(Dense(64, activation = 'relu'))\n",
        "model.add(Dropout(0.2))\n",
        "model.add(Dense(10, activation = 'softmax'))\n",
        "\n",
        "sgd = SGD(learning_rate = 0.1)\n",
        "model.compile(optimizer= sgd, loss = 'sparse_categorical_crossentropy', metrics = ['accuracy'])\n",
        "model.summary()\n"
      ],
      "metadata": {
        "colab": {
          "base_uri": "https://localhost:8080/"
        },
        "id": "1VuiBdr2L4CA",
        "outputId": "3d1d3029-7985-48c9-a6ae-32523aa12e11"
      },
      "execution_count": null,
      "outputs": [
        {
          "output_type": "stream",
          "name": "stdout",
          "text": [
            "Model: \"sequential_5\"\n",
            "_________________________________________________________________\n",
            " Layer (type)                Output Shape              Param #   \n",
            "=================================================================\n",
            " conv2d_9 (Conv2D)           (None, 26, 26, 32)        320       \n",
            "                                                                 \n",
            " batch_normalization_1 (Bat  (None, 26, 26, 32)        128       \n",
            " chNormalization)                                                \n",
            "                                                                 \n",
            " conv2d_10 (Conv2D)          (None, 24, 24, 64)        18496     \n",
            "                                                                 \n",
            " max_pooling2d_7 (MaxPoolin  (None, 12, 12, 64)        0         \n",
            " g2D)                                                            \n",
            "                                                                 \n",
            " flatten_4 (Flatten)         (None, 9216)              0         \n",
            "                                                                 \n",
            " dense_8 (Dense)             (None, 64)                589888    \n",
            "                                                                 \n",
            " dropout_1 (Dropout)         (None, 64)                0         \n",
            "                                                                 \n",
            " dense_9 (Dense)             (None, 10)                650       \n",
            "                                                                 \n",
            "=================================================================\n",
            "Total params: 609482 (2.32 MB)\n",
            "Trainable params: 609418 (2.32 MB)\n",
            "Non-trainable params: 64 (256.00 Byte)\n",
            "_________________________________________________________________\n"
          ]
        }
      ]
    },
    {
      "cell_type": "code",
      "source": [
        "h = model.fit(xtrain,ytrain,epochs=10,validation_data=(xtest,ytest))"
      ],
      "metadata": {
        "colab": {
          "base_uri": "https://localhost:8080/"
        },
        "id": "FB_9bNFNNEQk",
        "outputId": "254213b6-c423-4535-a4d2-3c8b256edf05"
      },
      "execution_count": null,
      "outputs": [
        {
          "output_type": "stream",
          "name": "stdout",
          "text": [
            "Epoch 1/10\n",
            "1875/1875 [==============================] - 177s 95ms/step - loss: 0.2181 - accuracy: 0.9329 - val_loss: 0.1076 - val_accuracy: 0.9677\n",
            "Epoch 2/10\n",
            "1875/1875 [==============================] - 174s 93ms/step - loss: 0.1230 - accuracy: 0.9632 - val_loss: 0.0724 - val_accuracy: 0.9770\n",
            "Epoch 3/10\n",
            "1875/1875 [==============================] - 174s 93ms/step - loss: 0.0925 - accuracy: 0.9720 - val_loss: 0.0693 - val_accuracy: 0.9799\n",
            "Epoch 4/10\n",
            "1875/1875 [==============================] - 179s 95ms/step - loss: 0.0716 - accuracy: 0.9786 - val_loss: 0.0610 - val_accuracy: 0.9800\n",
            "Epoch 5/10\n",
            "1875/1875 [==============================] - 175s 93ms/step - loss: 0.0617 - accuracy: 0.9816 - val_loss: 0.0433 - val_accuracy: 0.9857\n",
            "Epoch 6/10\n",
            "1875/1875 [==============================] - 174s 93ms/step - loss: 0.0503 - accuracy: 0.9845 - val_loss: 0.0444 - val_accuracy: 0.9861\n",
            "Epoch 7/10\n",
            "1875/1875 [==============================] - 174s 93ms/step - loss: 0.0459 - accuracy: 0.9856 - val_loss: 0.0454 - val_accuracy: 0.9866\n",
            "Epoch 8/10\n",
            "1875/1875 [==============================] - 174s 93ms/step - loss: 0.0404 - accuracy: 0.9874 - val_loss: 0.0453 - val_accuracy: 0.9869\n",
            "Epoch 9/10\n",
            "1875/1875 [==============================] - 176s 94ms/step - loss: 0.0355 - accuracy: 0.9887 - val_loss: 0.0520 - val_accuracy: 0.9859\n",
            "Epoch 10/10\n",
            "1875/1875 [==============================] - 174s 93ms/step - loss: 0.0297 - accuracy: 0.9901 - val_loss: 0.0456 - val_accuracy: 0.9885\n"
          ]
        }
      ]
    },
    {
      "cell_type": "code",
      "source": [
        "tl,ta = model.evaluate(xtest,ytest)\n",
        "ta"
      ],
      "metadata": {
        "colab": {
          "base_uri": "https://localhost:8080/"
        },
        "id": "lgc8feYZNKIp",
        "outputId": "e09f7b3b-b4f3-4470-a960-5f20f4109612"
      },
      "execution_count": null,
      "outputs": [
        {
          "output_type": "stream",
          "name": "stdout",
          "text": [
            "313/313 [==============================] - 8s 26ms/step - loss: 0.0456 - accuracy: 0.9885\n"
          ]
        },
        {
          "output_type": "execute_result",
          "data": {
            "text/plain": [
              "0.9884999990463257"
            ]
          },
          "metadata": {},
          "execution_count": 29
        }
      ]
    },
    {
      "cell_type": "code",
      "source": [
        "import numpy as np\n",
        "import matplotlib.pyplot as plt\n",
        "\n",
        "plt.imshow(xtest.reshape((10000,28,28))[6],cmap=\"Greys\")\n",
        "yp = model.predict(xtest)\n",
        "va = np.argmax(yp[6])\n",
        "print(va,ytest[6])"
      ],
      "metadata": {
        "colab": {
          "base_uri": "https://localhost:8080/",
          "height": 464
        },
        "id": "Mscy1xThZwcR",
        "outputId": "70dc1c69-67db-4daf-c23f-883922d6634d"
      },
      "execution_count": null,
      "outputs": [
        {
          "output_type": "stream",
          "name": "stdout",
          "text": [
            "313/313 [==============================] - 13s 40ms/step\n",
            "4 4\n"
          ]
        },
        {
          "output_type": "display_data",
          "data": {
            "text/plain": [
              "<Figure size 640x480 with 1 Axes>"
            ],
            "image/png": "[encoded data removed]"
          },
          "metadata": {}
        }
      ]
    },
    {
      "cell_type": "code",
      "source": [],
      "metadata": {
        "id": "TVhF3UkyZ922"
      },
      "execution_count": null,
      "outputs": []
    }
  ]
}