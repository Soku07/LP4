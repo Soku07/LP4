{
  "nbformat": 4,
  "nbformat_minor": 0,
  "metadata": {
    "colab": {
      "provenance": [],
      "gpuType": "T4"
    },
    "kernelspec": {
      "name": "python3",
      "display_name": "Python 3"
    },
    "language_info": {
      "name": "python"
    },
    "accelerator": "GPU"
  },
  "cells": [
    {
      "cell_type": "code",
      "execution_count": null,
      "metadata": {
        "id": "JC2dPlJrQJ35"
      },
      "outputs": [],
      "source": [
        "import pandas as pd\n",
        "df_train = pd.read_csv(\"/content/train_data.csv\")\n",
        "df_test = pd.read_csv(\"/content/test_data.csv\")\n",
        "df_train.fillna(0,inplace=True)\n",
        "df_test.fillna(0,inplace=True)"
      ]
    },
    {
      "cell_type": "code",
      "source": [
        "xtrain = df_train.drop(\"label\",axis=1).values\n",
        "xtrain = xtrain.reshape((1905,32,32,3))/255\n",
        "ytrain = df_train[\"label\"].values\n",
        "list(set(ytrain))\n",
        "# xtrain.shape"
      ],
      "metadata": {
        "colab": {
          "base_uri": "https://localhost:8080/"
        },
        "id": "iOYYW_0IU52B",
        "outputId": "389d2ba2-a79e-429a-ac30-4448d3c195aa"
      },
      "execution_count": null,
      "outputs": [
        {
          "output_type": "execute_result",
          "data": {
            "text/plain": [
              "[0.0, 1.0, 2.0, 3.0, 4.0, 5.0, 6.0, 7.0, 8.0, 9.0]"
            ]
          },
          "metadata": {},
          "execution_count": 15
        }
      ]
    },
    {
      "cell_type": "code",
      "source": [
        "xtest = df_test.drop(\"label\",axis=1).values\n",
        "xtest = xtest/255\n",
        "ytest = df_test[\"label\"].values\n",
        "xtest.shape"
      ],
      "metadata": {
        "colab": {
          "base_uri": "https://localhost:8080/"
        },
        "id": "L1x-z-Z4U_35",
        "outputId": "0b61755e-7b9f-4a11-9f06-b8fbda1ab155"
      },
      "execution_count": null,
      "outputs": [
        {
          "output_type": "execute_result",
          "data": {
            "text/plain": [
              "(1900, 3072)"
            ]
          },
          "metadata": {},
          "execution_count": 22
        }
      ]
    },
    {
      "cell_type": "code",
      "source": [
        "from tensorflow.keras.models import Sequential\n",
        "from tensorflow.keras.layers import Flatten,Dropout,Dense,Conv2D,MaxPooling2D,BatchNormalization\n",
        "from tensorflow.keras.optimizers import SGD\n",
        "model = Sequential()\n",
        "model.add(Conv2D(32, (3,3),input_shape=(32,32,3),activation = 'relu'))\n",
        "model.add(MaxPooling2D((2,2)))\n",
        "model.add(Conv2D(64, (3,3),activation = 'relu'))\n",
        "model.add(MaxPooling2D((2,2)))\n",
        "model.add(Flatten())\n",
        "model.add(Dense(128, activation = 'relu'))\n",
        "model.add(Dense(64, activation = 'relu'))\n",
        "model.add(Dropout(0.2))\n",
        "model.add(Dense(10, activation = 'softmax'))\n",
        "\n",
        "sgd = SGD(learning_rate = 0.1)\n",
        "model.compile(optimizer= \"adam\", loss = 'sparse_categorical_crossentropy', metrics = ['accuracy'])\n",
        "# model.summary()"
      ],
      "metadata": {
        "id": "tu8Iq6EXVDyR"
      },
      "execution_count": null,
      "outputs": []
    },
    {
      "cell_type": "code",
      "source": [
        "h = model.fit(xtrain,ytrain,epochs=50,validation_split=0.2)"
      ],
      "metadata": {
        "colab": {
          "base_uri": "https://localhost:8080/"
        },
        "id": "2Y0BMLm1VJVu",
        "outputId": "adb728e0-904c-4869-a457-1063da966f8a"
      },
      "execution_count": null,
      "outputs": [
        {
          "output_type": "stream",
          "name": "stdout",
          "text": [
            "Epoch 1/50\n",
            "48/48 [==============================] - 0s 10ms/step - loss: 1.1226 - accuracy: 0.5827 - val_loss: 1.5469 - val_accuracy: 0.4409\n",
            "Epoch 2/50\n",
            "48/48 [==============================] - 0s 8ms/step - loss: 1.0021 - accuracy: 0.6470 - val_loss: 1.5622 - val_accuracy: 0.4593\n",
            "Epoch 3/50\n",
            "48/48 [==============================] - 0s 8ms/step - loss: 0.9830 - accuracy: 0.6424 - val_loss: 1.5791 - val_accuracy: 0.4383\n",
            "Epoch 4/50\n",
            "48/48 [==============================] - 0s 8ms/step - loss: 0.8140 - accuracy: 0.7165 - val_loss: 1.5411 - val_accuracy: 0.4751\n",
            "Epoch 5/50\n",
            "48/48 [==============================] - 0s 6ms/step - loss: 0.7455 - accuracy: 0.7487 - val_loss: 1.5834 - val_accuracy: 0.4856\n",
            "Epoch 6/50\n",
            "48/48 [==============================] - 0s 6ms/step - loss: 0.6490 - accuracy: 0.7861 - val_loss: 1.7098 - val_accuracy: 0.4357\n",
            "Epoch 7/50\n",
            "48/48 [==============================] - 0s 6ms/step - loss: 0.5665 - accuracy: 0.8058 - val_loss: 1.7078 - val_accuracy: 0.4593\n",
            "Epoch 8/50\n",
            "48/48 [==============================] - 0s 6ms/step - loss: 0.4712 - accuracy: 0.8399 - val_loss: 1.8257 - val_accuracy: 0.4541\n",
            "Epoch 9/50\n",
            "48/48 [==============================] - 0s 6ms/step - loss: 0.4120 - accuracy: 0.8681 - val_loss: 1.8456 - val_accuracy: 0.4304\n",
            "Epoch 10/50\n",
            "48/48 [==============================] - 0s 6ms/step - loss: 0.3286 - accuracy: 0.9016 - val_loss: 1.9598 - val_accuracy: 0.4462\n",
            "Epoch 11/50\n",
            "48/48 [==============================] - 0s 6ms/step - loss: 0.2805 - accuracy: 0.9154 - val_loss: 2.1508 - val_accuracy: 0.4357\n",
            "Epoch 12/50\n",
            "48/48 [==============================] - 0s 6ms/step - loss: 0.2866 - accuracy: 0.9049 - val_loss: 2.4011 - val_accuracy: 0.4383\n",
            "Epoch 13/50\n",
            "48/48 [==============================] - 0s 5ms/step - loss: 0.2331 - accuracy: 0.9311 - val_loss: 2.2336 - val_accuracy: 0.4331\n",
            "Epoch 14/50\n",
            "48/48 [==============================] - 0s 6ms/step - loss: 0.2011 - accuracy: 0.9331 - val_loss: 2.2862 - val_accuracy: 0.4462\n",
            "Epoch 15/50\n",
            "48/48 [==============================] - 0s 6ms/step - loss: 0.1690 - accuracy: 0.9521 - val_loss: 2.3711 - val_accuracy: 0.4619\n",
            "Epoch 16/50\n",
            "48/48 [==============================] - 0s 6ms/step - loss: 0.1149 - accuracy: 0.9685 - val_loss: 2.4979 - val_accuracy: 0.4541\n",
            "Epoch 17/50\n",
            "48/48 [==============================] - 0s 6ms/step - loss: 0.1171 - accuracy: 0.9652 - val_loss: 2.6200 - val_accuracy: 0.4541\n",
            "Epoch 18/50\n",
            "48/48 [==============================] - 0s 6ms/step - loss: 0.0943 - accuracy: 0.9764 - val_loss: 2.6753 - val_accuracy: 0.4514\n",
            "Epoch 19/50\n",
            "48/48 [==============================] - 0s 6ms/step - loss: 0.0684 - accuracy: 0.9816 - val_loss: 2.8459 - val_accuracy: 0.4619\n",
            "Epoch 20/50\n",
            "48/48 [==============================] - 0s 6ms/step - loss: 0.0885 - accuracy: 0.9724 - val_loss: 2.8330 - val_accuracy: 0.4619\n",
            "Epoch 21/50\n",
            "48/48 [==============================] - 0s 6ms/step - loss: 0.0661 - accuracy: 0.9875 - val_loss: 2.9273 - val_accuracy: 0.4514\n",
            "Epoch 22/50\n",
            "48/48 [==============================] - 0s 6ms/step - loss: 0.0466 - accuracy: 0.9928 - val_loss: 2.9599 - val_accuracy: 0.4724\n",
            "Epoch 23/50\n",
            "48/48 [==============================] - 0s 5ms/step - loss: 0.0452 - accuracy: 0.9948 - val_loss: 3.0916 - val_accuracy: 0.4698\n",
            "Epoch 24/50\n",
            "48/48 [==============================] - 0s 6ms/step - loss: 0.0661 - accuracy: 0.9790 - val_loss: 3.1795 - val_accuracy: 0.4462\n",
            "Epoch 25/50\n",
            "48/48 [==============================] - 0s 6ms/step - loss: 0.0901 - accuracy: 0.9718 - val_loss: 3.0699 - val_accuracy: 0.4646\n",
            "Epoch 26/50\n",
            "48/48 [==============================] - 0s 6ms/step - loss: 0.0811 - accuracy: 0.9764 - val_loss: 3.0033 - val_accuracy: 0.4567\n",
            "Epoch 27/50\n",
            "48/48 [==============================] - 0s 5ms/step - loss: 0.0572 - accuracy: 0.9882 - val_loss: 3.2410 - val_accuracy: 0.4567\n",
            "Epoch 28/50\n",
            "48/48 [==============================] - 0s 6ms/step - loss: 0.0669 - accuracy: 0.9823 - val_loss: 3.3156 - val_accuracy: 0.4357\n",
            "Epoch 29/50\n",
            "48/48 [==============================] - 0s 6ms/step - loss: 0.0385 - accuracy: 0.9921 - val_loss: 3.4283 - val_accuracy: 0.4357\n",
            "Epoch 30/50\n",
            "48/48 [==============================] - 0s 6ms/step - loss: 0.0337 - accuracy: 0.9934 - val_loss: 3.4089 - val_accuracy: 0.4409\n",
            "Epoch 31/50\n",
            "48/48 [==============================] - 0s 5ms/step - loss: 0.0307 - accuracy: 0.9915 - val_loss: 3.4038 - val_accuracy: 0.4409\n",
            "Epoch 32/50\n",
            "48/48 [==============================] - 0s 6ms/step - loss: 0.0187 - accuracy: 0.9961 - val_loss: 3.5172 - val_accuracy: 0.4541\n",
            "Epoch 33/50\n",
            "48/48 [==============================] - 0s 6ms/step - loss: 0.0185 - accuracy: 0.9974 - val_loss: 3.5950 - val_accuracy: 0.4514\n",
            "Epoch 34/50\n",
            "48/48 [==============================] - 0s 6ms/step - loss: 0.0164 - accuracy: 0.9967 - val_loss: 3.6159 - val_accuracy: 0.4488\n",
            "Epoch 35/50\n",
            "48/48 [==============================] - 0s 6ms/step - loss: 0.0339 - accuracy: 0.9895 - val_loss: 3.7853 - val_accuracy: 0.4278\n",
            "Epoch 36/50\n",
            "48/48 [==============================] - 0s 6ms/step - loss: 0.1047 - accuracy: 0.9678 - val_loss: 3.3804 - val_accuracy: 0.4383\n",
            "Epoch 37/50\n",
            "48/48 [==============================] - 0s 5ms/step - loss: 0.0565 - accuracy: 0.9797 - val_loss: 3.8020 - val_accuracy: 0.4304\n",
            "Epoch 38/50\n",
            "48/48 [==============================] - 0s 6ms/step - loss: 0.0639 - accuracy: 0.9869 - val_loss: 3.4371 - val_accuracy: 0.4514\n",
            "Epoch 39/50\n",
            "48/48 [==============================] - 0s 8ms/step - loss: 0.0268 - accuracy: 0.9948 - val_loss: 3.6533 - val_accuracy: 0.4383\n",
            "Epoch 40/50\n",
            "48/48 [==============================] - 0s 8ms/step - loss: 0.0192 - accuracy: 0.9961 - val_loss: 3.8966 - val_accuracy: 0.4567\n",
            "Epoch 41/50\n",
            "48/48 [==============================] - 0s 8ms/step - loss: 0.0210 - accuracy: 0.9948 - val_loss: 3.9574 - val_accuracy: 0.4619\n",
            "Epoch 42/50\n",
            "48/48 [==============================] - 0s 7ms/step - loss: 0.0137 - accuracy: 0.9974 - val_loss: 4.0100 - val_accuracy: 0.4383\n",
            "Epoch 43/50\n",
            "48/48 [==============================] - 0s 7ms/step - loss: 0.0358 - accuracy: 0.9888 - val_loss: 3.8927 - val_accuracy: 0.4488\n",
            "Epoch 44/50\n",
            "48/48 [==============================] - 0s 7ms/step - loss: 0.0928 - accuracy: 0.9685 - val_loss: 3.7953 - val_accuracy: 0.4593\n",
            "Epoch 45/50\n",
            "48/48 [==============================] - 0s 8ms/step - loss: 0.0630 - accuracy: 0.9790 - val_loss: 3.7221 - val_accuracy: 0.4121\n",
            "Epoch 46/50\n",
            "48/48 [==============================] - 0s 8ms/step - loss: 0.0474 - accuracy: 0.9843 - val_loss: 3.6788 - val_accuracy: 0.4436\n",
            "Epoch 47/50\n",
            "48/48 [==============================] - 0s 8ms/step - loss: 0.0187 - accuracy: 0.9961 - val_loss: 3.7264 - val_accuracy: 0.4462\n",
            "Epoch 48/50\n",
            "48/48 [==============================] - 0s 8ms/step - loss: 0.0124 - accuracy: 0.9980 - val_loss: 3.8596 - val_accuracy: 0.4488\n",
            "Epoch 49/50\n",
            "48/48 [==============================] - 0s 8ms/step - loss: 0.0068 - accuracy: 0.9993 - val_loss: 4.0418 - val_accuracy: 0.4304\n",
            "Epoch 50/50\n",
            "48/48 [==============================] - 0s 6ms/step - loss: 0.0108 - accuracy: 0.9974 - val_loss: 3.8798 - val_accuracy: 0.4593\n"
          ]
        }
      ]
    },
    {
      "cell_type": "code",
      "source": [
        "import numpy as np\n",
        "import matplotlib.pyplot as plt\n",
        "xtest = xtest.reshape((1900,32,32,3))\n",
        "plt.imshow(xtest[111],cmap=\"Greys\")\n",
        "yp = model.predict(xtest)\n",
        "va = np.argmax(yp[111])\n",
        "print(va,ytest[111])"
      ],
      "metadata": {
        "colab": {
          "base_uri": "https://localhost:8080/",
          "height": 464
        },
        "id": "y2_AcK7IVSVB",
        "outputId": "4a44f3a7-f9d5-4ca3-84d0-e77ebb903eed"
      },
      "execution_count": null,
      "outputs": [
        {
          "output_type": "stream",
          "name": "stdout",
          "text": [
            "60/60 [==============================] - 0s 2ms/step\n",
            "0 0.0\n"
          ]
        },
        {
          "output_type": "display_data",
          "data": {
            "text/plain": [
              "<Figure size 640x480 with 1 Axes>"
            ],
            "image/png": "[encoded data removed]"
          },
          "metadata": {}
        }
      ]
    },
    {
      "cell_type": "code",
      "source": [],
      "metadata": {
        "id": "uJHo0bhUcBLb"
      },
      "execution_count": null,
      "outputs": []
    }
  ]
}